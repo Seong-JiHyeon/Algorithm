{
  "nbformat": 4,
  "nbformat_minor": 0,
  "metadata": {
    "colab": {
      "name": "Untitled0.ipynb",
      "provenance": [],
      "authorship_tag": "ABX9TyPmNFgcn2cE6SEw7aXxWq+a",
      "include_colab_link": true
    },
    "kernelspec": {
      "name": "python3",
      "display_name": "Python 3"
    }
  },
  "cells": [
    {
      "cell_type": "markdown",
      "metadata": {
        "id": "view-in-github",
        "colab_type": "text"
      },
      "source": [
        "<a href=\"https://colab.research.google.com/github/Seong-JiHyeon/Algorithm/blob/master/Baekjoon10815.ipynb\" target=\"_parent\"><img src=\"https://colab.research.google.com/assets/colab-badge.svg\" alt=\"Open In Colab\"/></a>"
      ]
    },
    {
      "cell_type": "code",
      "metadata": {
        "id": "uDT2HCmYcSw8",
        "colab_type": "code",
        "colab": {}
      },
      "source": [
        "# (퀵정렬 활용)\n",
        "def Selection(arr, k):\n",
        "    def sort(low, high):\n",
        "        mid, result = partition(low, high)\n",
        "        if high <= low:\n",
        "            print(result)\n",
        "            return\n",
        "\n",
        "        if result==1:\n",
        "          print(result)\n",
        "          return\n",
        "        if(arr[mid]>k and result==0):\n",
        "          sort(low, mid - 1)\n",
        "        elif(arr[mid]<k and result==0): \n",
        "          sort(mid, high)\n",
        "\n",
        "    def partition(low, high):\n",
        "        result=0\n",
        "        pivot = arr[(low + high) // 2]\n",
        "        if pivot==k:\n",
        "          result=1\n",
        "        else:\n",
        "          while low <= high:\n",
        "            while arr[low] < pivot:\n",
        "                low += 1\n",
        "            while arr[high] > pivot:\n",
        "                high -= 1\n",
        "            if low <= high:\n",
        "                arr[low], arr[high] = arr[high], arr[low]\n",
        "                low, high = low + 1, high - 1\n",
        "        return low, result\n",
        "\n",
        "    sort(0, len(arr) - 1)\n",
        "\n",
        "#입출력\n",
        "N = int(input())\n",
        "Scard=input()\n",
        "Scard=Scard.split(' ')\n",
        "Ncard=[]\n",
        "for string in Scard:\n",
        "  Ncard.append(int(string))\n",
        " \n",
        "M = int(input())\n",
        "SNum=input()\n",
        "SNum=SNum.split(' ')\n",
        "Num=[]\n",
        "for string in SNum:\n",
        "  Num.append(int(string))\n",
        "\n",
        "for num in Num:\n",
        "    Selection(Ncard, num)"
      ],
      "execution_count": 0,
      "outputs": []
    },
    {
      "cell_type": "code",
      "metadata": {
        "id": "kp-s90RKcisF",
        "colab_type": "code",
        "colab": {}
      },
      "source": [
        "def div2(arr, k):\n",
        "  if (len(arr)<=2): #(len(arr))//2 = 0가 나오는 경우 예외처리\n",
        "    for i in range(len(arr)):\n",
        "      if(arr[i]==k):\n",
        "        print(\"1\", end=' ')\n",
        "        return\n",
        "\n",
        "    print(\"0\", end=' ')\n",
        "    return\n",
        "\n",
        "  \n",
        "  else:\n",
        "    mid = (len(arr))//2 #내림\n",
        "\n",
        "    if k==arr[mid]:\n",
        "      print(\"1\", end=' ')\n",
        "      return\n",
        "    elif k<arr[mid]:\n",
        "      div2(arr[:mid],k) # list :mid의 범위는 mid-1까지\n",
        "    else:\n",
        "      div2(arr[mid+1:],k)\n",
        "\n",
        "#입출력    \n",
        "n=int(input())\n",
        "card_list=list(map(int,input().split()))\n",
        "m=int(input());\n",
        "given_list=list(map(int,input().split()))\n",
        "\n",
        "card_list.sort() #파이썬 sort함수 사용\n",
        "\n",
        "for num in given_list:\n",
        "    div2(card_list, num)"
      ],
      "execution_count": 0,
      "outputs": []
    },
    {
      "cell_type": "code",
      "metadata": {
        "id": "zxyg2GQtdqC0",
        "colab_type": "code",
        "colab": {}
      },
      "source": [
        "def div2(arr, k):\n",
        "    mid = (len(arr)-1)//2 #len(arr)//2를 사용하면 list index out of range 에러 발생 가능성 높음 (배열은 0부터 시작하기 때문)\n",
        "    if k==arr[mid]:\n",
        "        print(\"1\", end=' ')\n",
        "        return\n",
        "\n",
        "    if len(arr)==2 and arr[mid+1]==k:\n",
        "      print(\"1\", end=' ')\n",
        "      return \n",
        "    else \n",
        "      print(\"0\", end=' ')\n",
        "      return\n",
        "\n",
        "    if mid!=0:\n",
        "      if k<arr[mid]:\n",
        "        div2(arr[:mid],k) # list :mid의 범위는 mid-1까지 (배열 원소가 none이 될 수 있음)\n",
        "      else:\n",
        "        div2(arr[mid+1:],k)\n",
        "    else:\n",
        "        print(\"0\", end=' ')\n",
        "        return\n",
        "# mid=-1이 나오는 경우는 len(arr)=0일 때, 즉 배열에 원소가 아예 없어질 때까지 반복 -> list index error 발생할 수 있음\n",
        "# mid=0이 나오는 경우는 len(arr)=1일 때, 즉 배열에 원소가 하나 있음으로 반드시 비교를 진행해야함\n",
        "\n",
        "#입출력\n",
        "n=int(input())\n",
        "card_list=list(map(int,input().split()))\n",
        "m=int(input());\n",
        "given_list=list(map(int,input().split()))\n",
        "\n",
        "card_list.sort()\n",
        "\n",
        "for num in given_list:\n",
        "  div2(card_list, num)"
      ],
      "execution_count": 0,
      "outputs": []
    },
    {
      "cell_type": "markdown",
      "metadata": {
        "id": "_F_yXMRGcoHQ",
        "colab_type": "text"
      },
      "source": [
        "4% -> 시간초과\n",
        "\n",
        "mid=0일 때 제귀를 한 번 더 호출하면, 배열에는 아예 원소가 남아있지 않음\n",
        "\n",
        "-> 런타임에러, 컴파일에러의 원인이 됨\n",
        "\n",
        "-> 배열의 원소가 없는데도 제귀를 한 번 더 호출하므로 그만큼 비효율적임\n",
        "\n",
        "---\n",
        "<답안>\n",
        "\n",
        "위와 달리 배열의 index도 같이 활용\n",
        "\n",
        "\n"
      ]
    },
    {
      "cell_type": "code",
      "metadata": {
        "id": "rm6j0UuXeMiX",
        "colab_type": "code",
        "colab": {}
      },
      "source": [
        "def find_number(list,p,q,k):\n",
        "     if p<q : #배열 index를 벗어나지 않기 위해서\n",
        "          temp_idx=(p+q)//2\n",
        "          temp_val=list[temp_idx]\n",
        "\n",
        "          if temp_val==k :\n",
        "               return 1\n",
        "          elif k < temp_val :\n",
        "               return find_number(list,p,temp_idx,k)\n",
        "          else : # if temp_val < k\n",
        "               return find_number(list,temp_idx+1,q,k)\n",
        "\n",
        "     else:\n",
        "          return 0\n",
        "\n",
        "if __name__==\"__main__\":\n",
        "     n=int(input())\n",
        "     card_list=list(map(int,input().split()))\n",
        "     m=int(input());\n",
        "     given_list=list(map(int,input().split()))\n",
        "\n",
        "     card_list.sort()\n",
        "     result_string=\"\"\n",
        "\n",
        "     for num in given_list:\n",
        "          result=find_number(card_list,0,n,num)\n",
        "          result_string+=str(result)+\" \"\n",
        "\n",
        "     print(result_string)"
      ],
      "execution_count": 0,
      "outputs": []
    },
    {
      "cell_type": "markdown",
      "metadata": {
        "id": "-lGeed2jnaBQ",
        "colab_type": "text"
      },
      "source": [
        "1. 배열의 제귀 호출 혹은 반복문을 사용할 때는 배열의 index 확인 (low<=high)의 조건문을 반드시 넣을것\n",
        "\n",
        "2. return 1, 0을 해서 string으로 붙여 넣는 방법이 일일이 print하는 것보다 시간 효율성이 높음\n",
        "\n",
        "3. if __name__==\"__main__\": 를 사용하면 시간 효율성이 높음\n",
        "\n",
        "4. 파이썬에 있는 활용할 수 있는 메소드를 적극 활용하면 좋음 (ex. sort())"
      ]
    }
  ]
}