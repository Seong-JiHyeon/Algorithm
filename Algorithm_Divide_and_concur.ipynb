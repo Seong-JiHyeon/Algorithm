{
  "nbformat": 4,
  "nbformat_minor": 0,
  "metadata": {
    "colab": {
      "name": "Algorithm - Divide and concur",
      "provenance": [],
      "authorship_tag": "ABX9TyMQIX/HQCp0B9INGW9JGMRR",
      "include_colab_link": true
    },
    "kernelspec": {
      "name": "python3",
      "display_name": "Python 3"
    }
  },
  "cells": [
    {
      "cell_type": "markdown",
      "metadata": {
        "id": "view-in-github",
        "colab_type": "text"
      },
      "source": [
        "<a href=\"https://colab.research.google.com/github/Seong-JiHyeon/Algorithm/blob/master/Algorithm_Divide_and_concur.ipynb\" target=\"_parent\"><img src=\"https://colab.research.google.com/assets/colab-badge.svg\" alt=\"Open In Colab\"/></a>"
      ]
    },
    {
      "cell_type": "markdown",
      "metadata": {
        "id": "xZjn2ZHiA_k0",
        "colab_type": "text"
      },
      "source": [
        "**분할정복 알고리즘**"
      ]
    },
    {
      "cell_type": "code",
      "metadata": {
        "id": "DDRLzQtCA43Z",
        "colab_type": "code",
        "colab": {}
      },
      "source": [
        "# 1. 합병 정렬\n",
        "def merge_sort(list):\n",
        "    if len(list) <= 1:\n",
        "        return list\n",
        "\n",
        "    mid = len(list) // 2        # //연산자: 몫\n",
        "    leftList = list[:mid]\n",
        "    rightList = list[mid:]\n",
        "    leftList = merge_sort(leftList)\n",
        "    rightList = merge_sort(rightList)\n",
        "    return merge(leftList, rightList)"
      ],
      "execution_count": 0,
      "outputs": []
    },
    {
      "cell_type": "code",
      "metadata": {
        "id": "gVmz5cxgD8ua",
        "colab_type": "code",
        "colab": {}
      },
      "source": [
        "def merge(left, right):\n",
        "    result = []\n",
        "    while len(left) > 0 or len(right) > 0:        #list에 남은 원소 계산(남은 원소가 하나라도 있다면 반복)\n",
        "        if len(left) > 0 and len(right) > 0:      #두 list에 남은 원소 비교\n",
        "            if left[0] <= right[0]:               #작은 왼쪽 원소 result에 삽입\n",
        "                result.append(left[0])\n",
        "                left = left[1:]                   #가장 앞의 원소 삭제\n",
        "            else:                                 \n",
        "                result.append(right[0])\n",
        "                right = right[1:]\n",
        "        elif len(left) > 0:                       #left list에만 원소가 남아있는 경우\n",
        "            result.append(left[0])\n",
        "            left = left[1:]\n",
        "        elif len(right) > 0:                      #right list에만 원소가 남아있는 경우\n",
        "            result.append(right[0])\n",
        "            right = right[1:]\n",
        "    return result"
      ],
      "execution_count": 0,
      "outputs": []
    },
    {
      "cell_type": "code",
      "metadata": {
        "id": "hrKsj5fxFy-i",
        "colab_type": "code",
        "outputId": "3bb3c675-2b8a-4f1f-955f-6c35996440a5",
        "colab": {
          "base_uri": "https://localhost:8080/",
          "height": 36
        }
      },
      "source": [
        "listA = [8,4,0,2,6,3,1,9,7,5]\n",
        "merge_sort(listA)"
      ],
      "execution_count": 0,
      "outputs": [
        {
          "output_type": "execute_result",
          "data": {
            "text/plain": [
              "[0, 1, 2, 3, 4, 5, 6, 7, 8, 9]"
            ]
          },
          "metadata": {
            "tags": []
          },
          "execution_count": 3
        }
      ]
    },
    {
      "cell_type": "code",
      "metadata": {
        "id": "5603GYnHGLci",
        "colab_type": "code",
        "colab": {}
      },
      "source": [
        "#퀵 정렬\n",
        "def quick_sort(arr):\n",
        "    def sort(low, high):\n",
        "        if high <= low:\n",
        "            return\n",
        "\n",
        "        mid = partition(low, high)\n",
        "        sort(low, mid - 1)\n",
        "        sort(mid, high)\n",
        "\n",
        "    def partition(low, high):\n",
        "        pivot = arr[(low + high) // 2]\n",
        "        while low <= high:\n",
        "            while arr[low] < pivot:\n",
        "                low += 1\n",
        "            while arr[high] > pivot:\n",
        "                high -= 1\n",
        "            if low <= high:\n",
        "                arr[low], arr[high] = arr[high], arr[low]\n",
        "                low, high = low + 1, high - 1\n",
        "        return low\n",
        "\n",
        "    return sort(0, len(arr) - 1)"
      ],
      "execution_count": 0,
      "outputs": []
    },
    {
      "cell_type": "code",
      "metadata": {
        "id": "H1rErGC-ssML",
        "colab_type": "code",
        "colab": {}
      },
      "source": [
        "def quick_sort(arr):\n",
        "    if len(arr) <= 1:\n",
        "        return arr\n",
        "    pivot = arr[len(arr) // 2]\n",
        "    lesser_arr, equal_arr, greater_arr = [], [], []\n",
        "    for num in arr:\n",
        "        if num < pivot:\n",
        "            lesser_arr.append(num)\n",
        "        elif num > pivot:\n",
        "            greater_arr.append(num)\n",
        "        else:\n",
        "            equal_arr.append(num)\n",
        "    return quick_sort(lesser_arr) + equal_arr + quick_sort(greater_arr)"
      ],
      "execution_count": 0,
      "outputs": []
    },
    {
      "cell_type": "code",
      "metadata": {
        "id": "fWf8G94-uHgO",
        "colab_type": "code",
        "outputId": "8a3bb5bf-9198-4ee8-bbcd-84939b6c4011",
        "colab": {
          "base_uri": "https://localhost:8080/",
          "height": 36
        }
      },
      "source": [
        "listA = [8,4,0,2,6,3,1,9,7,5]\n",
        "quick_sort(listA)"
      ],
      "execution_count": 0,
      "outputs": [
        {
          "output_type": "execute_result",
          "data": {
            "text/plain": [
              "[0, 1, 2, 3, 4, 5, 6, 7, 8, 9]"
            ]
          },
          "metadata": {
            "tags": []
          },
          "execution_count": 3
        }
      ]
    },
    {
      "cell_type": "code",
      "metadata": {
        "id": "aimr8vEQthhP",
        "colab_type": "code",
        "colab": {}
      },
      "source": [
        "# 선택문제: k번째 작은 수 찾기 (퀵정렬 활용)\n",
        "def Selection(arr, k):\n",
        "    def sort(low, high):\n",
        "        if high <= low:\n",
        "            return\n",
        "\n",
        "        mid = partition(low, high)\n",
        "        if(mid>k):\n",
        "          sort(low, mid - 1)\n",
        "        else: \n",
        "          sort(mid, high)\n",
        "\n",
        "    def partition(low, high):\n",
        "        pivot = arr[(low + high) // 2]\n",
        "        while low <= high:\n",
        "            while arr[low] < pivot:\n",
        "                low += 1\n",
        "            while arr[high] > pivot:\n",
        "                high -= 1\n",
        "            if low <= high:\n",
        "                arr[low], arr[high] = arr[high], arr[low]\n",
        "                low, high = low + 1, high - 1\n",
        "        return low\n",
        "\n",
        "    sort(0, len(arr) - 1)\n",
        "    return arr[k-1]"
      ],
      "execution_count": 0,
      "outputs": []
    },
    {
      "cell_type": "code",
      "metadata": {
        "id": "wRUu7YvpvFAz",
        "colab_type": "code",
        "outputId": "7e43203f-2b9a-4e29-8ec3-65f7d72e2bb4",
        "colab": {
          "base_uri": "https://localhost:8080/",
          "height": 36
        }
      },
      "source": [
        "listB=[28,79,13,57,65,39,43,24]\n",
        "Selection(listB,3)"
      ],
      "execution_count": 0,
      "outputs": [
        {
          "output_type": "execute_result",
          "data": {
            "text/plain": [
              "28"
            ]
          },
          "metadata": {
            "tags": []
          },
          "execution_count": 19
        }
      ]
    },
    {
      "cell_type": "code",
      "metadata": {
        "id": "RZ1LB4lawCku",
        "colab_type": "code",
        "outputId": "caf71233-561c-4462-89fd-72114fe95e6c",
        "colab": {
          "base_uri": "https://localhost:8080/",
          "height": 36
        }
      },
      "source": [
        "quick_sort(listB)"
      ],
      "execution_count": 0,
      "outputs": [
        {
          "output_type": "execute_result",
          "data": {
            "text/plain": [
              "[13, 24, 28, 39, 43, 57, 65, 79]"
            ]
          },
          "metadata": {
            "tags": []
          },
          "execution_count": 18
        }
      ]
    }
  ]
}