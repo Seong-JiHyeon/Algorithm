{
  "nbformat": 4,
  "nbformat_minor": 0,
  "metadata": {
    "colab": {
      "name": "정렬",
      "provenance": [],
      "authorship_tag": "ABX9TyNvhizKEzetGJPHddFBU7bB",
      "include_colab_link": true
    },
    "kernelspec": {
      "name": "python3",
      "display_name": "Python 3"
    }
  },
  "cells": [
    {
      "cell_type": "markdown",
      "metadata": {
        "id": "view-in-github",
        "colab_type": "text"
      },
      "source": [
        "<a href=\"https://colab.research.google.com/github/Seong-JiHyeon/Algorithm/blob/master/%EC%A0%95%EB%A0%AC.ipynb\" target=\"_parent\"><img src=\"https://colab.research.google.com/assets/colab-badge.svg\" alt=\"Open In Colab\"/></a>"
      ]
    },
    {
      "cell_type": "code",
      "metadata": {
        "id": "TZWpWC02LBjN",
        "colab_type": "code",
        "colab": {
          "base_uri": "https://localhost:8080/",
          "height": 36
        },
        "outputId": "a7323185-ca65-4bb5-b49c-b0146c7499fc"
      },
      "source": [
        "#버블정렬\n",
        "def BubbleSort(li):\n",
        "    list_length = len(li)\n",
        "    for i in range(list_length-1):\n",
        "      for j in range(list_length-i-1):\n",
        "        if li[j] > li[j+1]:\n",
        "          li[j], li[j+1] = li[j+1], li[j]\n",
        "\n",
        "if __name__ == \"__main__\":\n",
        "    li = [2, 3, 1, 4]\n",
        "    BubbleSort(li)\n",
        "    print(li)"
      ],
      "execution_count": 1,
      "outputs": [
        {
          "output_type": "stream",
          "text": [
            "[1, 2, 3, 4]\n"
          ],
          "name": "stdout"
        }
      ]
    },
    {
      "cell_type": "code",
      "metadata": {
        "id": "9zHspp6jLh1v",
        "colab_type": "code",
        "colab": {
          "base_uri": "https://localhost:8080/",
          "height": 36
        },
        "outputId": "ae5f433b-4924-4acb-9ef5-34e7009f6eee"
      },
      "source": [
        "#선택 정렬\n",
        "def selection_sort(li):\n",
        "    for i in range(len(li)-1):\n",
        "        for j in range(i+1, len(li)):\n",
        "            if li[i] > li[j]:\n",
        "                li[i], li[j] = li[j], li[i]\n",
        "    return li\n",
        "\n",
        "if __name__ == \"__main__\":\n",
        "\tli = [4, 6, 1, 7, 2, 8, 3, 5, 9, 10, 12, 11]\n",
        "\tselection_sort(li)\n",
        "\tprint(li)"
      ],
      "execution_count": 2,
      "outputs": [
        {
          "output_type": "stream",
          "text": [
            "[1, 2, 3, 4, 5, 6, 7, 8, 9, 10, 11, 12]\n"
          ],
          "name": "stdout"
        }
      ]
    },
    {
      "cell_type": "code",
      "metadata": {
        "id": "Vthku_opL2o7",
        "colab_type": "code",
        "colab": {
          "base_uri": "https://localhost:8080/",
          "height": 36
        },
        "outputId": "938bd3c2-c773-44e3-909f-f68ac41e02a6"
      },
      "source": [
        "#삽입정렬\n",
        "def insertion_sort(li):\n",
        "    for i in range(1, len(li)):\n",
        "        j = i - 1\n",
        "        key = li[i]\n",
        "        while li[j] > key and j >= 0:\n",
        "            li[j+1] = li[j]\n",
        "            j = j -1\n",
        "        li[j+1] = key\n",
        "    return li\n",
        "\n",
        "if __name__ == \"__main__\":\n",
        "  li = [4, 6, 1, 7, 2, 8, 3, 5, 9, 10, 12, 11]\n",
        "  insertion_sort(li)\n",
        "  print(li)"
      ],
      "execution_count": 9,
      "outputs": [
        {
          "output_type": "stream",
          "text": [
            "[1, 2, 3, 4, 5, 6, 7, 8, 9, 10, 11, 12]\n"
          ],
          "name": "stdout"
        }
      ]
    },
    {
      "cell_type": "code",
      "metadata": {
        "id": "PXnK5sT7Me4D",
        "colab_type": "code",
        "colab": {
          "base_uri": "https://localhost:8080/",
          "height": 148
        },
        "outputId": "47440584-31c7-4235-acc6-11a639337e85"
      },
      "source": [
        "voca_list = []\n",
        "for i in range(int(input())):               \n",
        "    voca_list.append(input())              \n",
        " \n",
        "set_voca_list = list(set(voca_list))        \n",
        " \n",
        "sort_voca_list = []\n",
        " \n",
        "for j in set_voca_list:\n",
        "    sort_voca_list.append((len(j), j))      \n",
        " \n",
        "sort_voca_list.sort()                       \n",
        " \n",
        "for len_voca, voca in sort_voca_list:       \n",
        "    print(voca)"
      ],
      "execution_count": 12,
      "outputs": [
        {
          "output_type": "stream",
          "text": [
            "3\n",
            "banana\n",
            "apple\n",
            "yellow\n",
            "apple\n",
            "banana\n",
            "yellow\n"
          ],
          "name": "stdout"
        }
      ]
    }
  ]
}