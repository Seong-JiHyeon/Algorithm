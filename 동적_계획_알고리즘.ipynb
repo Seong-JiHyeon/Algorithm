{
  "nbformat": 4,
  "nbformat_minor": 0,
  "metadata": {
    "colab": {
      "name": "동적 계획 알고리즘",
      "provenance": [],
      "authorship_tag": "ABX9TyNxvhfrEfe3PXUy44++C9tU",
      "include_colab_link": true
    },
    "kernelspec": {
      "name": "python3",
      "display_name": "Python 3"
    }
  },
  "cells": [
    {
      "cell_type": "markdown",
      "metadata": {
        "id": "view-in-github",
        "colab_type": "text"
      },
      "source": [
        "<a href=\"https://colab.research.google.com/github/Seong-JiHyeon/Algorithm/blob/master/%EB%8F%99%EC%A0%81_%EA%B3%84%ED%9A%8D_%EC%95%8C%EA%B3%A0%EB%A6%AC%EC%A6%98.ipynb\" target=\"_parent\"><img src=\"https://colab.research.google.com/assets/colab-badge.svg\" alt=\"Open In Colab\"/></a>"
      ]
    },
    {
      "cell_type": "code",
      "metadata": {
        "id": "LGHGlKO3t3By",
        "colab_type": "code",
        "colab": {}
      },
      "source": [
        "#모든 쌍 최단 경로 = dijkstra\n",
        "import heapq\n",
        "def dijkstra(graph, start):\n",
        "  distances = {node: float('inf') for node in graph}\n",
        "  distances[start] = 0\n",
        "  queue = []\n",
        "  heapq.heappush(queue, [distances[start], start])\n",
        "\n",
        "  while queue:\n",
        "    current_distance, current_node = heapq.heappop(queue)\n",
        "    if distances[current_node] < current_distance:\n",
        "      continue\n",
        "    for adjacent, weight in graph[current_node].items():\n",
        "      distance = current_distance + weight\n",
        "      if distance < distances[adjacent]:\n",
        "        distances[adjacent] = distance\n",
        "        heapq.heappush(queue, [distance, adjacent])\n",
        "  return distances\n"
      ],
      "execution_count": 0,
      "outputs": []
    },
    {
      "cell_type": "code",
      "metadata": {
        "id": "6WvG7FOFxTTC",
        "colab_type": "code",
        "colab": {}
      },
      "source": [
        "mygraph = {\n",
        "    'A': {'B': 8, 'C': 1, 'D': 2},\n",
        "    'B': {},\n",
        "    'C': {'B': 5, 'D': 2},\n",
        "    'D': {'E': 3, 'F': 5},\n",
        "    'E': {'F': 1},\n",
        "    'F': {'A': 5}\n",
        "}"
      ],
      "execution_count": 0,
      "outputs": []
    },
    {
      "cell_type": "code",
      "metadata": {
        "id": "5qN0NJF2xQAQ",
        "colab_type": "code",
        "colab": {
          "base_uri": "https://localhost:8080/",
          "height": 36
        },
        "outputId": "72989a6f-6a81-4b7c-cd81-e17f9bab657f"
      },
      "source": [
        "dijkstra(mygraph, 'A')"
      ],
      "execution_count": 4,
      "outputs": [
        {
          "output_type": "execute_result",
          "data": {
            "text/plain": [
              "{'A': 0, 'B': 6, 'C': 1, 'D': 2, 'E': 5, 'F': 6}"
            ]
          },
          "metadata": {
            "tags": []
          },
          "execution_count": 4
        }
      ]
    },
    {
      "cell_type": "code",
      "metadata": {
        "id": "IT4Uml6exZRY",
        "colab_type": "code",
        "colab": {}
      },
      "source": [
        "#행렬의 곱셈\n",
        "import sys\n",
        "d = [10, 30, 5, 60]\n",
        "x = [0 for x in range(4)]\n",
        "M = [x,x,x,x]"
      ],
      "execution_count": 0,
      "outputs": []
    },
    {
      "cell_type": "code",
      "metadata": {
        "id": "z64uuJ8pz3wm",
        "colab_type": "code",
        "colab": {
          "base_uri": "https://localhost:8080/",
          "height": 36
        },
        "outputId": "a4cb962a-e40e-49ee-bece-050184e8e29a"
      },
      "source": [
        "for diag in range(1, 4):\n",
        "    for i in range(1, 4-diag):\n",
        "        j = i+diag\n",
        "        M[i][j] = sys.maxsize\n",
        "        for k in range(i,j):\n",
        "            M[i][j] = min(M[i][j],\n",
        "                          M[i][k] + M[k+1][j] + d[i-1]*d[k]*d[j])\n",
        "            \n",
        "print(M[1][3])"
      ],
      "execution_count": 19,
      "outputs": [
        {
          "output_type": "stream",
          "text": [
            "9223372036854775807\n"
          ],
          "name": "stdout"
        }
      ]
    },
    {
      "cell_type": "code",
      "metadata": {
        "id": "rB4XU7490ICF",
        "colab_type": "code",
        "colab": {}
      },
      "source": [
        "#백준 2294\n",
        "def solve(k, dp, values):\n",
        "  for i in range(1, k+1):\n",
        "    dp[i]= min([case(i, dp, value)for value in values])+ 1\n",
        " \n",
        "  return [dp[k],-1][dp[k]== 10000]\n",
        " \n",
        "def case(i, dp, value):\n",
        "    if i > value:\n",
        "        return dp[i- value]\n",
        "    elif i== value:\n",
        "        return 0\n",
        "    else:\n",
        "        return 10000"
      ],
      "execution_count": 0,
      "outputs": []
    },
    {
      "cell_type": "code",
      "metadata": {
        "id": "5qu8FXvx30aQ",
        "colab_type": "code",
        "colab": {}
      },
      "source": [
        "n, k= [int(i) for i in input().split()]\n",
        "values= [int(input()) for _ in range(n)]\n",
        " \n",
        "#make dp list\n",
        "dp= [10000]* (k+1)\n",
        " \n",
        "#answer\n",
        "print(solve(k, dp, values))"
      ],
      "execution_count": 0,
      "outputs": []
    }
  ]
}