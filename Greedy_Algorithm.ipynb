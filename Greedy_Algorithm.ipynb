{
  "nbformat": 4,
  "nbformat_minor": 0,
  "metadata": {
    "colab": {
      "name": "Greedy Algorithm",
      "provenance": [],
      "authorship_tag": "ABX9TyOeqgFhlyUiq7QxG36/xOwC",
      "include_colab_link": true
    },
    "kernelspec": {
      "name": "python3",
      "display_name": "Python 3"
    }
  },
  "cells": [
    {
      "cell_type": "markdown",
      "metadata": {
        "id": "view-in-github",
        "colab_type": "text"
      },
      "source": [
        "<a href=\"https://colab.research.google.com/github/Seong-JiHyeon/Algorithm/blob/master/Greedy_Algorithm.ipynb\" target=\"_parent\"><img src=\"https://colab.research.google.com/assets/colab-badge.svg\" alt=\"Open In Colab\"/></a>"
      ]
    },
    {
      "cell_type": "markdown",
      "metadata": {
        "id": "cAgMPQQIRRi5",
        "colab_type": "text"
      },
      "source": [
        "1. kruskal algorithm"
      ]
    },
    {
      "cell_type": "code",
      "metadata": {
        "id": "hoUbAePgBedO",
        "colab_type": "code",
        "colab": {}
      },
      "source": [
        "parent = dict()\n",
        "rank = dict()\n",
        "\n",
        "\n",
        "def find(node):\n",
        "    # path compression 기법\n",
        "    if parent[node] != node:\n",
        "        parent[node] = find(parent[node])\n",
        "    return parent[node]\n",
        "\n",
        "\n",
        "def union(node_v, node_u):\n",
        "    root1 = find(node_v)\n",
        "    root2 = find(node_u)\n",
        "    \n",
        "    # union-by-rank 기법\n",
        "    if rank[root1] > rank[root2]:\n",
        "        parent[root2] = root1\n",
        "    else:\n",
        "        parent[root1] = root2\n",
        "        if rank[root1] == rank[root2]:\n",
        "            rank[root2] += 1\n",
        "    \n",
        "    \n",
        "def make_set(node):\n",
        "    parent[node] = node\n",
        "    rank[node] = 0\n",
        "\n",
        "def kruskal(graph):\n",
        "    mst = list()\n",
        "    \n",
        "    # 1. 초기화\n",
        "    for node in graph['vertices']:\n",
        "        make_set(node)\n",
        "    \n",
        "    # 2. 간선 weight 기반 sorting\n",
        "    edges = graph['edges']\n",
        "    edges.sort()\n",
        "    \n",
        "    # 3. 간선 연결 (사이클 없는)\n",
        "    for edge in edges:\n",
        "        weight, node_v, node_u = edge\n",
        "        if find(node_v) != find(node_u):\n",
        "            union(node_v, node_u)\n",
        "            mst.append(edge)\n",
        "    \n",
        "    return mst"
      ],
      "execution_count": 0,
      "outputs": []
    },
    {
      "cell_type": "code",
      "metadata": {
        "id": "s-cCbBHTPeDI",
        "colab_type": "code",
        "colab": {}
      },
      "source": [
        "mygraph = {\n",
        "    'vertices': ['A', 'B', 'C', 'D', 'E', 'F', 'G'],\n",
        "    'edges': [\n",
        "        (7, 'A', 'B'),\n",
        "        (5, 'A', 'D'),\n",
        "        (7, 'B', 'A'),\n",
        "        (8, 'B', 'C'),\n",
        "        (9, 'B', 'D'),\n",
        "        (7, 'B', 'E'),\n",
        "        (8, 'C', 'B'),\n",
        "        (5, 'C', 'E'),\n",
        "        (5, 'D', 'A'),\n",
        "        (9, 'D', 'B'),\n",
        "        (7, 'D', 'E'),\n",
        "        (6, 'D', 'F'),\n",
        "        (7, 'E', 'B'),\n",
        "        (5, 'E', 'C'),\n",
        "        (7, 'E', 'D'),\n",
        "        (8, 'E', 'F'),\n",
        "        (9, 'E', 'G'),\n",
        "        (6, 'F', 'D'),\n",
        "        (8, 'F', 'E'),\n",
        "        (11, 'F', 'G'),\n",
        "        (9, 'G', 'E'),\n",
        "        (11, 'G', 'F')\n",
        "    ]\n",
        "}"
      ],
      "execution_count": 0,
      "outputs": []
    },
    {
      "cell_type": "code",
      "metadata": {
        "id": "uAAodsMVRDfi",
        "colab_type": "code",
        "colab": {
          "base_uri": "https://localhost:8080/",
          "height": 129
        },
        "outputId": "8819b590-d0c5-4a80-9c5d-ddd74f2413ae"
      },
      "source": [
        "kruskal(mygraph)"
      ],
      "execution_count": 7,
      "outputs": [
        {
          "output_type": "execute_result",
          "data": {
            "text/plain": [
              "[(5, 'A', 'D'),\n",
              " (5, 'C', 'E'),\n",
              " (6, 'D', 'F'),\n",
              " (7, 'A', 'B'),\n",
              " (7, 'B', 'E'),\n",
              " (9, 'E', 'G')]"
            ]
          },
          "metadata": {
            "tags": []
          },
          "execution_count": 7
        }
      ]
    },
    {
      "cell_type": "code",
      "metadata": {
        "id": "b5W78UJ21dum",
        "colab_type": "code",
        "colab": {
          "base_uri": "https://localhost:8080/",
          "height": 111
        },
        "outputId": "f33fe1e4-8ac1-442b-c6c9-27290fe9f26b"
      },
      "source": [
        "work1=5\n",
        "work2=10\n",
        "work3=3\n",
        "work4=5\n",
        "work5=15\n",
        "\n",
        "machine1=0\n",
        "machine2=0\n",
        "\n",
        "machines=[0,0,0,0,0,0,0,0,0,0]\n",
        "works=[work1, work2, work3, work4, work5]\n",
        "\n",
        "works.sort()\n",
        "\n",
        "def divide(machines, work):\n",
        "  if(machines[0]==0):\n",
        "    machines[0]=1\n",
        "    print(work,\"in machine1\")\n",
        "    machines[1]=0\n",
        "\n",
        "  elif(machines[1]==0):\n",
        "    machines[1]=1\n",
        "    print(work,\"in machine2\")\n",
        "    machines[0]=0\n",
        "\n",
        "def divides(machines, work):\n",
        "  i=0\n",
        "  for machine in machines:\n",
        "    if(machine==0):\n",
        "      machines[i]=1\n",
        "      print(work, \"in machine\", i)\n",
        "      machines[i+1]=0 #바로 뒤의 machine은 반드시 작업이 다 끝났다고 가정 (한 바퀴를 돌아왔기 때문에 가능성 높음)\n",
        "      break;\n",
        "    i=i+1\n",
        "\n",
        "for work in works:\n",
        "  divides(machines, work)"
      ],
      "execution_count": 46,
      "outputs": [
        {
          "output_type": "stream",
          "text": [
            "3 in machine 0\n",
            "5 in machine 1\n",
            "5 in machine 2\n",
            "10 in machine 3\n",
            "15 in machine 4\n"
          ],
          "name": "stdout"
        }
      ]
    },
    {
      "cell_type": "markdown",
      "metadata": {
        "id": "Z_Uq6HT7RW83",
        "colab_type": "text"
      },
      "source": [
        "2. Prim Algorithm"
      ]
    },
    {
      "cell_type": "code",
      "metadata": {
        "id": "4LB8Z2CwTrHs",
        "colab_type": "code",
        "colab": {}
      },
      "source": [
        "import numpy as np \n",
        "class Prim: \n",
        "  def __init__(self): \n",
        "    self.matrix = makeGraph() \n",
        "    self.matrixLen = len(self.matrix[0]) \n",
        "    self.connected_Weight = np.zeros((self.matrixLen, self.matrixLen)) \n",
        "    self.visited_Vertex = np.zeros(self.matrixLen) \n",
        "    self.connected_len = 0 \n",
        "    self.totalWeight = 0 \n",
        "  \n",
        "  def cycleCheck(self, input_i, input_j): \n",
        "    chk = False \n",
        "    arr = [] \n",
        "    visited = np.zeros(self.matrixLen) \n",
        "    arr.append(input_i) \n",
        "    visited[input_i] = 1 \n",
        "    while (len(arr)): \n",
        "      temp = arr.pop() \n",
        "      if (chk == True): \n",
        "        return chk \n",
        "      for i in range(len(self.matrix[0])): \n",
        "        if ( (self.connected_Weight[temp][i] == 1 or self.connected_Weight[temp][i] == 2) and visited[i] != 1 and temp != i ): \n",
        "          if (input_j == i): \n",
        "            chk = True \n",
        "            return chk \n",
        "          else: \n",
        "            arr.append(i) \n",
        "            visited[i] = 1 \n",
        "          temp = i \n",
        "    return chk \n",
        "          \n",
        "  def findLowerValue(self): \n",
        "    lowest =100 \n",
        "    low_i ,low_j =0, 0 \n",
        "    for i in range(len(self.matrix[0])): \n",
        "      if ( self.visited_Vertex[i] == 1): \n",
        "        for j in range(len(self.matrix[0])): \n",
        "          if( i != j): \n",
        "            chk = self.cycleCheck(i, j) \n",
        "            if( chk): \n",
        "              self.connected_Weight[i][j] = 2 \n",
        "              self.connected_Weight[j][i] = 2 \n",
        "            elif(chk == False and self.matrix[i][j] != 0 and self.connected_Weight[i][j] != 1 and self.connected_Weight[i][j] != 2): \n",
        "              if(self.matrix[i][j] <= lowest): \n",
        "                lowest,low_i, low_j = self.matrix[i][j], i,j \n",
        "    return int(lowest),low_i,low_j \n",
        "    \n",
        "  def Prim(self): \n",
        "    index = 0 \n",
        "    self.visited_Vertex[index] = 1 \n",
        "    while (self.connected_len < self.matrixLen-1): \n",
        "      lowest, i, j = self.findLowerValue() \n",
        "      self.visited_Vertex[i] = 1 \n",
        "      self.visited_Vertex[j] = 1 \n",
        "      self.connected_Weight[i][j] = 1 \n",
        "      self.connected_Weight[j][i] = 1 \n",
        "      self.connected_len += 1 \n",
        "      self.totalWeight += lowest \n",
        "      print(\"(\", i, \",\", j, \")-> weight: \", lowest, \"total Weight :\", self.totalWeight)"
      ],
      "execution_count": 0,
      "outputs": []
    },
    {
      "cell_type": "code",
      "metadata": {
        "id": "WdrBJHM2d8-j",
        "colab_type": "code",
        "colab": {
          "base_uri": "https://localhost:8080/",
          "height": 185
        },
        "outputId": "a49cfe09-c4f0-49c0-a862-5d5ed1ab56d4"
      },
      "source": [
        "def makeGraph(): \n",
        "  matrix = np.zeros((9, 9)) \n",
        "  matrix[0][1] = 4 \n",
        "  matrix[0][7] = 8 # 0 - degree 2 \n",
        "  matrix[1][0] = 4 \n",
        "  matrix[1][2] = 8 \n",
        "  matrix[1][7] = 11 # 1 - degree 3 \n",
        "  matrix[2][1] = 8 \n",
        "  matrix[2][3] = 7 \n",
        "  matrix[2][8] = 2 \n",
        "  matrix[2][5] = 4 # 2 - degree 4 \n",
        "  matrix[3][2] = 7 \n",
        "  matrix[3][4] = 9 \n",
        "  matrix[3][5] = 14 # 3 - degree 3 \n",
        "  matrix[4][3] = 9 \n",
        "  matrix[4][5] = 10 # 4 - degree 2 \n",
        "  matrix[5][2] = 4 \n",
        "  matrix[5][3] = 14 \n",
        "  matrix[5][4] = 10 \n",
        "  matrix[5][6] = 2 # 5 - degree 4 \n",
        "  matrix[6][5] = 2 \n",
        "  matrix[6][7] = 1 \n",
        "  matrix[6][8] = 6 # 6 - degree 3 \n",
        "  matrix[7][0] = 8 \n",
        "  matrix[7][1] = 11 \n",
        "  matrix[7][6] = 1 \n",
        "  matrix[7][8] = 7 # 7 - degree 4 \n",
        "  matrix[8][2] = 2 \n",
        "  matrix[8][6] = 6 \n",
        "  matrix[8][7] = 7 # 8 - degree 3 \n",
        "  return matrix \n",
        "  \n",
        "def main(): \n",
        "  print('main') \n",
        "  Prim().Prim() \n",
        "  \n",
        "if __name__ == \"__main__\": \n",
        "  main()"
      ],
      "execution_count": 11,
      "outputs": [
        {
          "output_type": "stream",
          "text": [
            "main\n",
            "( 0 , 1 )-> weight:  4 total Weight : 4\n",
            "( 1 , 2 )-> weight:  8 total Weight : 12\n",
            "( 2 , 8 )-> weight:  2 total Weight : 14\n",
            "( 2 , 5 )-> weight:  4 total Weight : 18\n",
            "( 5 , 6 )-> weight:  2 total Weight : 20\n",
            "( 6 , 7 )-> weight:  1 total Weight : 21\n",
            "( 2 , 3 )-> weight:  7 total Weight : 28\n",
            "( 3 , 4 )-> weight:  9 total Weight : 37\n"
          ],
          "name": "stdout"
        }
      ]
    },
    {
      "cell_type": "markdown",
      "metadata": {
        "id": "gZrH3lDIqHRm",
        "colab_type": "text"
      },
      "source": [
        "3. 부분 배낭 문제"
      ]
    },
    {
      "cell_type": "code",
      "metadata": {
        "id": "ISUcnrlAqUG6",
        "colab_type": "code",
        "colab": {}
      },
      "source": [
        "import sys\n",
        "\n",
        "r = sys.stdin.readline\n",
        "N, W = map(int, r().split())\n",
        "bag = [tuple(map(int, r().split())) for _ in range(N)]\n",
        "\n",
        "knap = [0 for _ in range(W+1)]\n",
        "\n",
        "for i in range(N):\n",
        "    for j in range(W, 1, -1):\n",
        "        if bag[i][0] <= j:\n",
        "            knap[j] = max(knap[j], knap[j-bag[i][0]] + bag[i][1])\n",
        "\n",
        "print(knap[-1])"
      ],
      "execution_count": 0,
      "outputs": []
    }
  ]
}