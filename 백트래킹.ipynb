{
  "nbformat": 4,
  "nbformat_minor": 0,
  "metadata": {
    "colab": {
      "name": "백트래킹, 분기한정, 유전자, 모의 담금질",
      "provenance": [],
      "authorship_tag": "ABX9TyMJCQQhNP00EQ/IDFzbnYqn",
      "include_colab_link": true
    },
    "kernelspec": {
      "name": "python3",
      "display_name": "Python 3"
    }
  },
  "cells": [
    {
      "cell_type": "markdown",
      "metadata": {
        "id": "view-in-github",
        "colab_type": "text"
      },
      "source": [
        "<a href=\"https://colab.research.google.com/github/Seong-JiHyeon/Algorithm/blob/master/%EB%B0%B1%ED%8A%B8%EB%9E%98%ED%82%B9.ipynb\" target=\"_parent\"><img src=\"https://colab.research.google.com/assets/colab-badge.svg\" alt=\"Open In Colab\"/></a>"
      ]
    },
    {
      "cell_type": "code",
      "metadata": {
        "id": "zn043T3NTbZS",
        "colab_type": "code",
        "colab": {}
      },
      "source": [
        "#n-queens\n",
        "def is_available(candidate, current_col):\n",
        "    current_row = len(candidate)\n",
        "    for queen_row in range(current_row):    \n",
        "        if candidate[queen_row] == current_col or abs(candidate[queen_row] - current_col) == current_row - queen_row:\n",
        "            return False\n",
        "    return True\n",
        "\n",
        "\n",
        "def DFS(N, current_row, current_candidate, final_result):\n",
        "    if current_row == N:\n",
        "        final_result.append(current_candidate[:])\n",
        "        return\n",
        "    \n",
        "    for candidate_col in range(N):\n",
        "        if is_available(current_candidate, candidate_col):\n",
        "            current_candidate.append(candidate_col)\n",
        "            DFS(N, current_row + 1, current_candidate, final_result)\n",
        "            current_candidate.pop()\n",
        "\n",
        "\n",
        "def solve_n_queens(N):\n",
        "    final_result = []\n",
        "    DFS(N, 0, [], final_result)\n",
        "    return final_result"
      ],
      "execution_count": 1,
      "outputs": []
    },
    {
      "cell_type": "code",
      "metadata": {
        "id": "6idWZIz1Tw89",
        "colab_type": "code",
        "colab": {
          "base_uri": "https://localhost:8080/",
          "height": 36
        },
        "outputId": "01185552-4138-4f9e-9876-ceabdc9aec7e"
      },
      "source": [
        "solve_n_queens(4)"
      ],
      "execution_count": 2,
      "outputs": [
        {
          "output_type": "execute_result",
          "data": {
            "text/plain": [
              "[[1, 3, 0, 2], [2, 0, 3, 1]]"
            ]
          },
          "metadata": {
            "tags": []
          },
          "execution_count": 2
        }
      ]
    },
    {
      "cell_type": "code",
      "metadata": {
        "id": "eRr9tmVfYDAL",
        "colab_type": "code",
        "colab": {
          "base_uri": "https://localhost:8080/",
          "height": 148
        },
        "outputId": "4a449cd7-a603-4ed5-a2aa-202ab1d4949e"
      },
      "source": [
        "#백준 15649\n",
        "n, m = map(int, input().split())    \n",
        "check=[0 for _ in range(n+1)]\n",
        "result=[0 for _ in range(m)]\n",
        " \n",
        "def sequence(index,n,m):\n",
        "    if index==m:\n",
        "        for i in range(m):\n",
        "            print(result[i], end=' ')\n",
        "        print()\n",
        "        return\n",
        " \n",
        "    for i in range(1,n+1):\n",
        "        if check[i]==1:\n",
        "            continue\n",
        "        result[index]=i \n",
        "        check[i]=1  \n",
        "        sequence(index+1,n,m)\n",
        "        check[i]=0 \n",
        " \n",
        " \n",
        "sequence(0,n,m)"
      ],
      "execution_count": 6,
      "outputs": [
        {
          "output_type": "stream",
          "text": [
            "3 2\n",
            "1 2 \n",
            "1 3 \n",
            "2 1 \n",
            "2 3 \n",
            "3 1 \n",
            "3 2 \n"
          ],
          "name": "stdout"
        }
      ]
    },
    {
      "cell_type": "code",
      "metadata": {
        "id": "Tmk2juUAYRWU",
        "colab_type": "code",
        "colab": {
          "base_uri": "https://localhost:8080/",
          "height": 1000
        },
        "outputId": "0fa3c7fa-9704-42f9-a13a-ac69cc05f0dc"
      },
      "source": [
        "#백준 10974\n",
        "def next_permutation(a):\n",
        "    n = len(a) - 1\n",
        "    i = n\n",
        "    while i > 0 and a[i-1] >= a[i]:\n",
        "        i -= 1\n",
        "    if i == 0:\n",
        "        return False\n",
        "    j = n\n",
        "    while a[i-1] >= a[j]:\n",
        "        j -= 1\n",
        "    a[i-1], a[j] = a[j], a[i-1]\n",
        "    j = n\n",
        "    while i < j:\n",
        "        a[i], a[j] = a[j], a[i]\n",
        "        i += 1\n",
        "        j -= 1\n",
        "    return True\n",
        "\n",
        "a = [i+1 for i in range(int(input()))] \n",
        "while True:\n",
        "    print(' '.join(map(str, a))) \n",
        "    if next_permutation(a) is False:\n",
        "        break"
      ],
      "execution_count": 7,
      "outputs": [
        {
          "output_type": "stream",
          "text": [
            "5\n",
            "1 2 3 4 5\n",
            "1 2 3 5 4\n",
            "1 2 4 3 5\n",
            "1 2 4 5 3\n",
            "1 2 5 3 4\n",
            "1 2 5 4 3\n",
            "1 3 2 4 5\n",
            "1 3 2 5 4\n",
            "1 3 4 2 5\n",
            "1 3 4 5 2\n",
            "1 3 5 2 4\n",
            "1 3 5 4 2\n",
            "1 4 2 3 5\n",
            "1 4 2 5 3\n",
            "1 4 3 2 5\n",
            "1 4 3 5 2\n",
            "1 4 5 2 3\n",
            "1 4 5 3 2\n",
            "1 5 2 3 4\n",
            "1 5 2 4 3\n",
            "1 5 3 2 4\n",
            "1 5 3 4 2\n",
            "1 5 4 2 3\n",
            "1 5 4 3 2\n",
            "2 1 3 4 5\n",
            "2 1 3 5 4\n",
            "2 1 4 3 5\n",
            "2 1 4 5 3\n",
            "2 1 5 3 4\n",
            "2 1 5 4 3\n",
            "2 3 1 4 5\n",
            "2 3 1 5 4\n",
            "2 3 4 1 5\n",
            "2 3 4 5 1\n",
            "2 3 5 1 4\n",
            "2 3 5 4 1\n",
            "2 4 1 3 5\n",
            "2 4 1 5 3\n",
            "2 4 3 1 5\n",
            "2 4 3 5 1\n",
            "2 4 5 1 3\n",
            "2 4 5 3 1\n",
            "2 5 1 3 4\n",
            "2 5 1 4 3\n",
            "2 5 3 1 4\n",
            "2 5 3 4 1\n",
            "2 5 4 1 3\n",
            "2 5 4 3 1\n",
            "3 1 2 4 5\n",
            "3 1 2 5 4\n",
            "3 1 4 2 5\n",
            "3 1 4 5 2\n",
            "3 1 5 2 4\n",
            "3 1 5 4 2\n",
            "3 2 1 4 5\n",
            "3 2 1 5 4\n",
            "3 2 4 1 5\n",
            "3 2 4 5 1\n",
            "3 2 5 1 4\n",
            "3 2 5 4 1\n",
            "3 4 1 2 5\n",
            "3 4 1 5 2\n",
            "3 4 2 1 5\n",
            "3 4 2 5 1\n",
            "3 4 5 1 2\n",
            "3 4 5 2 1\n",
            "3 5 1 2 4\n",
            "3 5 1 4 2\n",
            "3 5 2 1 4\n",
            "3 5 2 4 1\n",
            "3 5 4 1 2\n",
            "3 5 4 2 1\n",
            "4 1 2 3 5\n",
            "4 1 2 5 3\n",
            "4 1 3 2 5\n",
            "4 1 3 5 2\n",
            "4 1 5 2 3\n",
            "4 1 5 3 2\n",
            "4 2 1 3 5\n",
            "4 2 1 5 3\n",
            "4 2 3 1 5\n",
            "4 2 3 5 1\n",
            "4 2 5 1 3\n",
            "4 2 5 3 1\n",
            "4 3 1 2 5\n",
            "4 3 1 5 2\n",
            "4 3 2 1 5\n",
            "4 3 2 5 1\n",
            "4 3 5 1 2\n",
            "4 3 5 2 1\n",
            "4 5 1 2 3\n",
            "4 5 1 3 2\n",
            "4 5 2 1 3\n",
            "4 5 2 3 1\n",
            "4 5 3 1 2\n",
            "4 5 3 2 1\n",
            "5 1 2 3 4\n",
            "5 1 2 4 3\n",
            "5 1 3 2 4\n",
            "5 1 3 4 2\n",
            "5 1 4 2 3\n",
            "5 1 4 3 2\n",
            "5 2 1 3 4\n",
            "5 2 1 4 3\n",
            "5 2 3 1 4\n",
            "5 2 3 4 1\n",
            "5 2 4 1 3\n",
            "5 2 4 3 1\n",
            "5 3 1 2 4\n",
            "5 3 1 4 2\n",
            "5 3 2 1 4\n",
            "5 3 2 4 1\n",
            "5 3 4 1 2\n",
            "5 3 4 2 1\n",
            "5 4 1 2 3\n",
            "5 4 1 3 2\n",
            "5 4 2 1 3\n",
            "5 4 2 3 1\n",
            "5 4 3 1 2\n",
            "5 4 3 2 1\n"
          ],
          "name": "stdout"
        }
      ]
    },
    {
      "cell_type": "code",
      "metadata": {
        "id": "kJjjVx-RZNpe",
        "colab_type": "code",
        "colab": {
          "base_uri": "https://localhost:8080/",
          "height": 73
        },
        "outputId": "df073a54-afea-406e-b162-d90197fda38b"
      },
      "source": [
        "#백준 1182\n",
        "def f(idx, d):\n",
        "    global res\n",
        "    if(idx >= n):\n",
        "        if(s == d):\n",
        "            res += 1\n",
        "            return\n",
        "    else:\n",
        "        f(idx+1, d+arr[idx])\n",
        "        f(idx+1, d)\n",
        "\n",
        "n, s = map(int, input().split())\n",
        "arr = list(map(int, input().split()))\n",
        "res = 0\n",
        "f(0,0)\n",
        "\n",
        "if(s):\n",
        "    print(res)\n",
        "else:\n",
        "    print(res - 1)"
      ],
      "execution_count": 10,
      "outputs": [
        {
          "output_type": "stream",
          "text": [
            "5 0\n",
            "-7 -3 -2 5 8\n",
            "1\n"
          ],
          "name": "stdout"
        }
      ]
    }
  ]
}